{
 "cells": [
  {
   "cell_type": "markdown",
   "id": "d2d81f02-5f93-44bd-b4a1-06ad4405fb33",
   "metadata": {},
   "source": [
    "Importing Ecommerce returns data to clean"
   ]
  },
  {
   "cell_type": "code",
   "execution_count": 1,
   "id": "1b1e36eb-7198-4592-b4a1-fff435ea50e1",
   "metadata": {},
   "outputs": [],
   "source": [
    "import pandas as pd"
   ]
  },
  {
   "cell_type": "code",
   "execution_count": 2,
   "id": "73f943d6-73bb-4195-a204-a69f1c6c28ab",
   "metadata": {},
   "outputs": [],
   "source": [
    "df = pd.read_csv(r\"C:\\Users\\DELL\\Downloads\\archive (4)\\ecommerce_returns_synthetic_data.csv\")\n"
   ]
  },
  {
   "cell_type": "code",
   "execution_count": 3,
   "id": "4652f935-d792-4676-9c65-a754a4c48b7c",
   "metadata": {},
   "outputs": [],
   "source": [
    "#change the datatype for order date and return date.\n",
    "\n",
    "df['Order_Date'] = pd.to_datetime(df['Order_Date'])\n",
    "df['Return_Date'] = pd.to_datetime(df['Return_Date'], errors='coerce')\n"
   ]
  },
  {
   "cell_type": "code",
   "execution_count": 4,
   "id": "2f5a689e-03a8-48b2-bf4f-175844070dce",
   "metadata": {},
   "outputs": [],
   "source": [
    "# To check if we have null values in returned scenario\n",
    "df['Is_Returned'] = df['Return_Status'].apply(lambda x: 1 if x == 'Returned' else 0)\n"
   ]
  },
  {
   "cell_type": "code",
   "execution_count": 5,
   "id": "b30c7f4c-324d-4c7c-b0cd-a47d4e33d4df",
   "metadata": {},
   "outputs": [
    {
     "data": {
      "text/plain": [
       "Days_to_Return      4948\n",
       "Return_Date         4948\n",
       "Return_Reason       4948\n",
       "Order_ID               0\n",
       "Discount_Applied       0\n",
       "Shipping_Method        0\n",
       "Payment_Method         0\n",
       "User_Location          0\n",
       "User_Gender            0\n",
       "User_Age               0\n",
       "Return_Status          0\n",
       "Product_ID             0\n",
       "Order_Quantity         0\n",
       "Product_Price          0\n",
       "Product_Category       0\n",
       "Order_Date             0\n",
       "User_ID                0\n",
       "Is_Returned            0\n",
       "dtype: int64"
      ]
     },
     "execution_count": 5,
     "metadata": {},
     "output_type": "execute_result"
    }
   ],
   "source": [
    "df.isnull().sum().sort_values(ascending=False)\n"
   ]
  },
  {
   "cell_type": "code",
   "execution_count": 6,
   "id": "cd9add53-ac74-48b2-9e32-6744e77a6c54",
   "metadata": {},
   "outputs": [
    {
     "name": "stdout",
     "output_type": "stream",
     "text": [
      "Return_Reason     0\n",
      "Return_Date       0\n",
      "Days_to_Return    0\n",
      "dtype: int64\n"
     ]
    }
   ],
   "source": [
    "returned_missing = df[df['Is_Returned'] == 1][['Return_Reason', 'Return_Date', 'Days_to_Return']].isnull().sum()\n",
    "print(returned_missing)\n",
    "#there are no missing information in products returned scenario."
   ]
  },
  {
   "cell_type": "code",
   "execution_count": 7,
   "id": "698bf337-eb5d-415d-b8a2-9501e5538a74",
   "metadata": {},
   "outputs": [],
   "source": [
    "# Dealing with missing values in returned scenario.\n",
    "df = df[~((df['Is_Returned'] == 1) & (df['Return_Reason'].isnull()))]\n"
   ]
  },
  {
   "cell_type": "code",
   "execution_count": 8,
   "id": "af0280fa-c015-4f9c-9833-8615bb45bb77",
   "metadata": {},
   "outputs": [],
   "source": [
    "df = df[~((df['Is_Returned'] == 1) & (df['Return_Date'].isnull()))]"
   ]
  },
  {
   "cell_type": "code",
   "execution_count": 9,
   "id": "7d27afcc-44c0-4917-9f09-6c9855a55a39",
   "metadata": {},
   "outputs": [],
   "source": [
    "df = df[~((df['Is_Returned'] == 1) & (df['Days_to_Return'].isnull()))]"
   ]
  },
  {
   "cell_type": "code",
   "execution_count": 10,
   "id": "b9b5ca3f-ce41-416f-b051-96061dc96fea",
   "metadata": {},
   "outputs": [
    {
     "name": "stdout",
     "output_type": "stream",
     "text": [
      "Final missing values:\n",
      "Order_ID               0\n",
      "Product_ID             0\n",
      "User_ID                0\n",
      "Order_Date             0\n",
      "Return_Date         4948\n",
      "Product_Category       0\n",
      "Product_Price          0\n",
      "Order_Quantity         0\n",
      "Return_Reason       4948\n",
      "Return_Status          0\n",
      "Days_to_Return      4948\n",
      "User_Age               0\n",
      "User_Gender            0\n",
      "User_Location          0\n",
      "Payment_Method         0\n",
      "Shipping_Method        0\n",
      "Discount_Applied       0\n",
      "Is_Returned            0\n",
      "dtype: int64\n"
     ]
    }
   ],
   "source": [
    "\n",
    "print(\"Final missing values:\")\n",
    "print(df.isnull().sum())\n"
   ]
  },
  {
   "cell_type": "code",
   "execution_count": 11,
   "id": "4d071ef4-f903-472b-92f7-0ef3fd353366",
   "metadata": {},
   "outputs": [
    {
     "data": {
      "text/plain": [
       "Return_Reason     4948\n",
       "Return_Date       4948\n",
       "Days_to_Return    4948\n",
       "dtype: int64"
      ]
     },
     "execution_count": 11,
     "metadata": {},
     "output_type": "execute_result"
    }
   ],
   "source": [
    "df[df['Is_Returned'] == 0][['Return_Reason', 'Return_Date', 'Days_to_Return']].isnull().sum()\n"
   ]
  },
  {
   "cell_type": "code",
   "execution_count": 12,
   "id": "a49a8f40-2cb1-45ac-8cbc-34be52439d1c",
   "metadata": {},
   "outputs": [
    {
     "data": {
      "text/plain": [
       "Return_Reason     0\n",
       "Return_Date       0\n",
       "Days_to_Return    0\n",
       "dtype: int64"
      ]
     },
     "execution_count": 12,
     "metadata": {},
     "output_type": "execute_result"
    }
   ],
   "source": [
    "df[df['Is_Returned'] == 1][['Return_Reason', 'Return_Date', 'Days_to_Return']].isnull().sum()\n",
    "# we have 0 null in orders returned scenario."
   ]
  },
  {
   "cell_type": "code",
   "execution_count": 13,
   "id": "a934fe9a-f6b5-468a-b197-cb21b3a1c6ba",
   "metadata": {},
   "outputs": [
    {
     "name": "stdout",
     "output_type": "stream",
     "text": [
      "Invalid prices:\n",
      " (0, 18)\n",
      "Invalid quantities:\n",
      " (0, 18)\n"
     ]
    }
   ],
   "source": [
    "print(\"Invalid prices:\\n\", df[df['Product_Price'] <= 0].shape)\n",
    "print(\"Invalid quantities:\\n\", df[df['Order_Quantity'] <= 0].shape)\n"
   ]
  },
  {
   "cell_type": "code",
   "execution_count": 14,
   "id": "d94946ab-ff28-470a-9443-1c4ff8017189",
   "metadata": {},
   "outputs": [],
   "source": [
    "df = df[(df['Product_Price'] > 0) & (df['Order_Quantity'] > 0)]\n"
   ]
  },
  {
   "cell_type": "code",
   "execution_count": 15,
   "id": "85c3e2c4-4f76-4ee4-84c6-e40abc60faa4",
   "metadata": {},
   "outputs": [
    {
     "name": "stdout",
     "output_type": "stream",
     "text": [
      "Remaining invalid values (should be 0):\n",
      "Price <= 0: 0\n",
      "Quantity <= 0: 0\n"
     ]
    }
   ],
   "source": [
    "print(\"Remaining invalid values (should be 0):\")\n",
    "print(\"Price <= 0:\", (df['Product_Price'] <= 0).sum())\n",
    "print(\"Quantity <= 0:\", (df['Order_Quantity'] <= 0).sum())\n"
   ]
  },
  {
   "cell_type": "markdown",
   "id": "8306dad4-4a85-47c1-8488-97da415998af",
   "metadata": {},
   "source": [
    "Exploratory Data Analysis "
   ]
  },
  {
   "cell_type": "code",
   "execution_count": 16,
   "id": "7b644a96-7006-4bc8-88e1-c4614a441274",
   "metadata": {},
   "outputs": [
    {
     "name": "stdout",
     "output_type": "stream",
     "text": [
      "Return Rate by Product Category:\n",
      " Product_Category\n",
      "Clothing       0.524500\n",
      "Electronics    0.509320\n",
      "Books          0.506614\n",
      "Toys           0.495370\n",
      "Home           0.490148\n",
      "Name: Is_Returned, dtype: float64\n"
     ]
    }
   ],
   "source": [
    "category_return_rate = df.groupby('Product_Category')['Is_Returned'].mean().sort_values(ascending=False)\n",
    "print(\"Return Rate by Product Category:\\n\", category_return_rate)\n"
   ]
  },
  {
   "cell_type": "code",
   "execution_count": 17,
   "id": "7d7c8744-058a-4e5b-b1b5-f0f3155cda3d",
   "metadata": {},
   "outputs": [
    {
     "name": "stdout",
     "output_type": "stream",
     "text": [
      "\n",
      "Return Rate by User Location:\n",
      " User_Location\n",
      "City68    0.621053\n",
      "City71    0.617647\n",
      "City87    0.611111\n",
      "City10    0.598039\n",
      "City19    0.587629\n",
      "            ...   \n",
      "City45    0.418367\n",
      "City46    0.415842\n",
      "City41    0.415730\n",
      "City32    0.398148\n",
      "City25    0.387755\n",
      "Name: Is_Returned, Length: 100, dtype: float64\n"
     ]
    }
   ],
   "source": [
    "location_return_rate = df.groupby('User_Location')['Is_Returned'].mean().sort_values(ascending=False)\n",
    "print(\"\\nReturn Rate by User Location:\\n\", location_return_rate)\n"
   ]
  },
  {
   "cell_type": "code",
   "execution_count": 18,
   "id": "97ce161b-a228-4b18-b443-21fb304ce8b2",
   "metadata": {},
   "outputs": [
    {
     "name": "stdout",
     "output_type": "stream",
     "text": [
      "\n",
      "Return Rate by Shipping Method:\n",
      " Shipping_Method\n",
      "Next-Day    0.510902\n",
      "Standard    0.505152\n",
      "Express     0.499395\n",
      "Name: Is_Returned, dtype: float64\n"
     ]
    }
   ],
   "source": [
    "shipping_return_rate = df.groupby('Shipping_Method')['Is_Returned'].mean().sort_values(ascending=False)\n",
    "print(\"\\nReturn Rate by Shipping Method:\\n\", shipping_return_rate)\n"
   ]
  },
  {
   "cell_type": "code",
   "execution_count": 19,
   "id": "d26d050f-443e-429a-b26e-a33e4827697e",
   "metadata": {},
   "outputs": [
    {
     "name": "stdout",
     "output_type": "stream",
     "text": [
      "\n",
      "Return Rate by Payment Method:\n",
      " Payment_Method\n",
      "Gift Card      0.515964\n",
      "Debit Card     0.511155\n",
      "Credit Card    0.505055\n",
      "PayPal         0.488306\n",
      "Name: Is_Returned, dtype: float64\n"
     ]
    }
   ],
   "source": [
    "payment_return_rate = df.groupby('Payment_Method')['Is_Returned'].mean().sort_values(ascending=False)\n",
    "print(\"\\nReturn Rate by Payment Method:\\n\", payment_return_rate)\n"
   ]
  },
  {
   "cell_type": "code",
   "execution_count": 20,
   "id": "54ac33e2-4939-48f6-9b30-01ac1124bf31",
   "metadata": {},
   "outputs": [],
   "source": [
    "summary = df.groupby(['Product_Category', 'User_Location', 'Shipping_Method', 'Payment_Method'])['Is_Returned'].mean().reset_index()\n",
    "summary.to_csv(\"return_rate_summary.csv\", index=False)\n"
   ]
  },
  {
   "cell_type": "code",
   "execution_count": 21,
   "id": "17e0ea80-04aa-47a5-abd8-e38f06811f2a",
   "metadata": {},
   "outputs": [],
   "source": [
    "#visualisation of above analysis.\n",
    "import matplotlib.pyplot as plt\n",
    "import seaborn as sns\n",
    "\n",
    "sns.set(style=\"whitegrid\")\n"
   ]
  },
  {
   "cell_type": "code",
   "execution_count": 22,
   "id": "e91c60e8-4850-4672-b70a-ea874843fc73",
   "metadata": {},
   "outputs": [
    {
     "data": {
      "image/png": "[encoded data removed]",
      "text/plain": [
       "<Figure size 1000x600 with 1 Axes>"
      ]
     },
     "metadata": {},
     "output_type": "display_data"
    }
   ],
   "source": [
    "plt.figure(figsize=(10,6))\n",
    "category_return_rate.plot(kind='bar', color='skyblue')\n",
    "plt.title('Return Rate by Product Category')\n",
    "plt.ylabel('Return Rate')\n",
    "plt.xticks(rotation=45)\n",
    "plt.tight_layout()\n",
    "plt.show()\n"
   ]
  },
  {
   "cell_type": "code",
   "execution_count": 23,
   "id": "c55dc838-c5ba-4369-9740-0e1fd23d71bc",
   "metadata": {},
   "outputs": [
    {
     "data": {
      "image/png": "[encoded data removed]",
      "text/plain": [
       "<Figure size 1400x800 with 1 Axes>"
      ]
     },
     "metadata": {},
     "output_type": "display_data"
    }
   ],
   "source": [
    "plt.figure(figsize=(14,8))\n",
    "location_return_rate.plot(kind='bar', color='salmon')\n",
    "plt.title('Return Rate by User Location')\n",
    "plt.ylabel('Return Rate')\n",
    "plt.xticks(rotation=45)\n",
    "plt.tight_layout()\n",
    "plt.show()\n"
   ]
  },
  {
   "cell_type": "code",
   "execution_count": 24,
   "id": "4dc0035c-2c8c-45e7-bb0e-aa8adc6cd67e",
   "metadata": {},
   "outputs": [
    {
     "data": {
      "image/png": "[encoded data removed]",
      "text/plain": [
       "<Figure size 600x400 with 1 Axes>"
      ]
     },
     "metadata": {},
     "output_type": "display_data"
    }
   ],
   "source": [
    "plt.figure(figsize=(6,4))\n",
    "shipping_return_rate.plot(kind='bar', color='lightgreen')\n",
    "plt.title('Return Rate by Shipping Method')\n",
    "plt.ylabel('Return Rate')\n",
    "plt.xticks(rotation=0)\n",
    "plt.tight_layout()\n",
    "plt.show()\n"
   ]
  },
  {
   "cell_type": "code",
   "execution_count": 25,
   "id": "7ee1986c-513c-45f1-b7aa-ae50faf7d746",
   "metadata": {},
   "outputs": [
    {
     "data": {
      "image/png": "[encoded data removed]",
      "text/plain": [
       "<Figure size 600x400 with 1 Axes>"
      ]
     },
     "metadata": {},
     "output_type": "display_data"
    }
   ],
   "source": [
    "plt.figure(figsize=(6,4))\n",
    "payment_return_rate.plot(kind='bar', color='violet')\n",
    "plt.title('Return Rate by Payment Method')\n",
    "plt.ylabel('Return Rate')\n",
    "plt.xticks(rotation=0)\n",
    "plt.tight_layout()\n",
    "plt.show()\n"
   ]
  },
  {
   "cell_type": "markdown",
   "id": "8f9625b8-b3ea-44fa-8b17-0b23c0347e2f",
   "metadata": {},
   "source": [
    "Sqllite database"
   ]
  },
  {
   "cell_type": "code",
   "execution_count": 26,
   "id": "fc2eb3d4-a26b-4477-a672-87a7afb3311a",
   "metadata": {},
   "outputs": [
    {
     "name": "stdout",
     "output_type": "stream",
     "text": [
      "      Order_ID    Product_ID       User_ID           Order_Date  \\\n",
      "0  ORD00000000  PROD00000000  USER00000000  2023-08-05 00:00:00   \n",
      "1  ORD00000001  PROD00000001  USER00000001  2023-10-09 00:00:00   \n",
      "2  ORD00000002  PROD00000002  USER00000002  2023-05-06 00:00:00   \n",
      "3  ORD00000003  PROD00000003  USER00000003  2024-08-29 00:00:00   \n",
      "4  ORD00000004  PROD00000004  USER00000004  2023-01-16 00:00:00   \n",
      "\n",
      "           Return_Date Product_Category  Product_Price  Order_Quantity  \\\n",
      "0  2024-08-26 00:00:00         Clothing         411.59               3   \n",
      "1  2023-11-09 00:00:00            Books         288.88               3   \n",
      "2                 None             Toys         390.03               5   \n",
      "3                 None             Toys         401.09               3   \n",
      "4                 None            Books         110.09               4   \n",
      "\n",
      "  Return_Reason Return_Status  Days_to_Return  User_Age User_Gender  \\\n",
      "0  Changed mind      Returned           387.0        58        Male   \n",
      "1    Wrong item      Returned            31.0        68      Female   \n",
      "2          None  Not Returned             NaN        22      Female   \n",
      "3          None  Not Returned             NaN        40        Male   \n",
      "4          None  Not Returned             NaN        34      Female   \n",
      "\n",
      "  User_Location Payment_Method Shipping_Method  Discount_Applied  Is_Returned  \n",
      "0        City54     Debit Card        Next-Day             45.27            1  \n",
      "1        City85    Credit Card         Express             47.79            1  \n",
      "2        City30     Debit Card        Next-Day             26.64            0  \n",
      "3        City95         PayPal        Next-Day             15.37            0  \n",
      "4        City80      Gift Card        Standard             16.37            0  \n"
     ]
    }
   ],
   "source": [
    "# save the data in sqlite database and writing queries.\n",
    "import sqlite3\n",
    "\n",
    "# Create database connection\n",
    "conn = sqlite3.connect(\"ecommerce_returns.db\")\n",
    "\n",
    "# Export DataFrame to SQL table\n",
    "df.to_sql(\"returns\", conn, if_exists=\"replace\", index=False)\n",
    "\n",
    "# Verify table creation\n",
    "print(pd.read_sql(\"SELECT * FROM returns LIMIT 5\", conn))\n"
   ]
  },
  {
   "cell_type": "code",
   "execution_count": 27,
   "id": "c4b2a263-f20e-41d6-8273-df7c93b60b58",
   "metadata": {},
   "outputs": [
    {
     "name": "stdout",
     "output_type": "stream",
     "text": [
      "  Product_Category  Return_Percentage\n",
      "0         Clothing              52.45\n",
      "1      Electronics              50.93\n",
      "2            Books              50.66\n",
      "3             Toys              49.54\n",
      "4             Home              49.01\n"
     ]
    }
   ],
   "source": [
    "# Return rate by category\n",
    "query1 = \"\"\"\n",
    "SELECT Product_Category, \n",
    "       ROUND(AVG(Is_Returned)*100, 2) AS Return_Percentage\n",
    "FROM returns\n",
    "GROUP BY Product_Category\n",
    "ORDER BY Return_Percentage DESC;\n",
    "\"\"\"\n",
    "print(pd.read_sql(query1, conn))\n"
   ]
  },
  {
   "cell_type": "code",
   "execution_count": 28,
   "id": "89002127-02bc-43c5-8ee2-8a9256d121ab",
   "metadata": {},
   "outputs": [
    {
     "name": "stdout",
     "output_type": "stream",
     "text": [
      "   User_Location  Return_Percentage\n",
      "0         City68              62.11\n",
      "1         City71              61.76\n",
      "2         City87              61.11\n",
      "3         City10              59.80\n",
      "4         City19              58.76\n",
      "..           ...                ...\n",
      "95        City45              41.84\n",
      "96        City46              41.58\n",
      "97        City41              41.57\n",
      "98        City32              39.81\n",
      "99        City25              38.78\n",
      "\n",
      "[100 rows x 2 columns]\n"
     ]
    }
   ],
   "source": [
    "# Return rate by user_location\n",
    "query2 = \"\"\"\n",
    "SELECT User_Location, \n",
    "       ROUND(AVG(Is_Returned)*100, 2) AS Return_Percentage\n",
    "FROM returns\n",
    "GROUP BY User_Location\n",
    "ORDER BY Return_Percentage DESC;\n",
    "\"\"\"\n",
    "print(pd.read_sql(query2, conn))\n"
   ]
  },
  {
   "cell_type": "code",
   "execution_count": 29,
   "id": "4b2d20d2-3fdd-4032-bdcf-cae8a337f2bf",
   "metadata": {},
   "outputs": [
    {
     "name": "stdout",
     "output_type": "stream",
     "text": [
      "  Shipping_Method  Return_Percentage\n",
      "0        Next-Day              51.09\n",
      "1        Standard              50.52\n",
      "2         Express              49.94\n"
     ]
    }
   ],
   "source": [
    "# Return rate by Shipping_Method\n",
    "query3 = \"\"\"\n",
    "SELECT Shipping_Method, \n",
    "       ROUND(AVG(Is_Returned)*100, 2) AS Return_Percentage\n",
    "FROM returns\n",
    "GROUP BY Shipping_Method\n",
    "ORDER BY Return_Percentage DESC;\n",
    "\"\"\"\n",
    "print(pd.read_sql(query3, conn))\n"
   ]
  },
  {
   "cell_type": "code",
   "execution_count": 30,
   "id": "3992cb84-3698-430a-9428-3dc1256f9ff7",
   "metadata": {},
   "outputs": [],
   "source": [
    "df.to_csv(\"cleaned_ecommerce_returns.csv\", index=False)\n"
   ]
  },
  {
   "cell_type": "markdown",
   "id": "c0ee29d0-87aa-4595-bba7-f474231cac48",
   "metadata": {},
   "source": [
    "Logistic Regression for predictig and fnding probablity of the product being returned"
   ]
  },
  {
   "cell_type": "code",
   "execution_count": 31,
   "id": "1d5bbd38-6e56-4d90-bd90-f1cfb81185c8",
   "metadata": {},
   "outputs": [],
   "source": [
    "features = [\n",
    "    'Product_Category', 'User_Location', 'Order_Quantity',\n",
    "    'Product_Price', 'Shipping_Method', 'Payment_Method'\n",
    "]\n",
    "X = df[features]\n",
    "y = df['Is_Returned']\n"
   ]
  },
  {
   "cell_type": "code",
   "execution_count": 32,
   "id": "359872bc-47dc-4458-8fc7-ea293d78fdab",
   "metadata": {},
   "outputs": [],
   "source": [
    "from sklearn.preprocessing import OneHotEncoder\n",
    "from sklearn.compose import ColumnTransformer\n",
    "from sklearn.pipeline import Pipeline\n",
    "from sklearn.linear_model import LogisticRegression\n",
    "from sklearn.model_selection import train_test_split\n",
    "from sklearn.metrics import classification_report, confusion_matrix, accuracy_score\n",
    "\n",
    "# Split data\n",
    "X_train, X_test, y_train, y_test = train_test_split(X, y, test_size=0.2, random_state=42)\n",
    "\n",
    "# Preprocessing\n",
    "categorical = ['Product_Category', 'User_Location', 'Shipping_Method', 'Payment_Method']\n",
    "numeric = ['Order_Quantity', 'Product_Price']\n",
    "\n",
    "preprocessor = ColumnTransformer(\n",
    "    transformers=[\n",
    "        ('cat', OneHotEncoder(handle_unknown='ignore'), categorical)\n",
    "    ],\n",
    "    remainder='passthrough'\n",
    ")\n"
   ]
  },
  {
   "cell_type": "code",
   "execution_count": 33,
   "id": "09857fca-67f8-41bc-a472-4a861012e04f",
   "metadata": {},
   "outputs": [
    {
     "data": {
      "text/html": [
       "<style>#sk-container-id-1 {color: black;background-color: white;}#sk-container-id-1 pre{padding: 0;}#sk-container-id-1 div.sk-toggleable {background-color: white;}#sk-container-id-1 label.sk-toggleable__label {cursor: pointer;display: block;width: 100%;margin-bottom: 0;padding: 0.3em;box-sizing: border-box;text-align: center;}#sk-container-id-1 label.sk-toggleable__label-arrow:before {content: \"▸\";float: left;margin-right: 0.25em;color: #696969;}#sk-container-id-1 label.sk-toggleable__label-arrow:hover:before {color: black;}#sk-container-id-1 div.sk-estimator:hover label.sk-toggleable__label-arrow:before {color: black;}#sk-container-id-1 div.sk-toggleable__content {max-height: 0;max-width: 0;overflow: hidden;text-align: left;background-color: #f0f8ff;}#sk-container-id-1 div.sk-toggleable__content pre {margin: 0.2em;color: black;border-radius: 0.25em;background-color: #f0f8ff;}#sk-container-id-1 input.sk-toggleable__control:checked~div.sk-toggleable__content {max-height: 200px;max-width: 100%;overflow: auto;}#sk-container-id-1 input.sk-toggleable__control:checked~label.sk-toggleable__label-arrow:before {content: \"▾\";}#sk-container-id-1 div.sk-estimator input.sk-toggleable__control:checked~label.sk-toggleable__label {background-color: #d4ebff;}#sk-container-id-1 div.sk-label input.sk-toggleable__control:checked~label.sk-toggleable__label {background-color: #d4ebff;}#sk-container-id-1 input.sk-hidden--visually {border: 0;clip: rect(1px 1px 1px 1px);clip: rect(1px, 1px, 1px, 1px);height: 1px;margin: -1px;overflow: hidden;padding: 0;position: absolute;width: 1px;}#sk-container-id-1 div.sk-estimator {font-family: monospace;background-color: #f0f8ff;border: 1px dotted black;border-radius: 0.25em;box-sizing: border-box;margin-bottom: 0.5em;}#sk-container-id-1 div.sk-estimator:hover {background-color: #d4ebff;}#sk-container-id-1 div.sk-parallel-item::after {content: \"\";width: 100%;border-bottom: 1px solid gray;flex-grow: 1;}#sk-container-id-1 div.sk-label:hover label.sk-toggleable__label {background-color: #d4ebff;}#sk-container-id-1 div.sk-serial::before {content: \"\";position: absolute;border-left: 1px solid gray;box-sizing: border-box;top: 0;bottom: 0;left: 50%;z-index: 0;}#sk-container-id-1 div.sk-serial {display: flex;flex-direction: column;align-items: center;background-color: white;padding-right: 0.2em;padding-left: 0.2em;position: relative;}#sk-container-id-1 div.sk-item {position: relative;z-index: 1;}#sk-container-id-1 div.sk-parallel {display: flex;align-items: stretch;justify-content: center;background-color: white;position: relative;}#sk-container-id-1 div.sk-item::before, #sk-container-id-1 div.sk-parallel-item::before {content: \"\";position: absolute;border-left: 1px solid gray;box-sizing: border-box;top: 0;bottom: 0;left: 50%;z-index: -1;}#sk-container-id-1 div.sk-parallel-item {display: flex;flex-direction: column;z-index: 1;position: relative;background-color: white;}#sk-container-id-1 div.sk-parallel-item:first-child::after {align-self: flex-end;width: 50%;}#sk-container-id-1 div.sk-parallel-item:last-child::after {align-self: flex-start;width: 50%;}#sk-container-id-1 div.sk-parallel-item:only-child::after {width: 0;}#sk-container-id-1 div.sk-dashed-wrapped {border: 1px dashed gray;margin: 0 0.4em 0.5em 0.4em;box-sizing: border-box;padding-bottom: 0.4em;background-color: white;}#sk-container-id-1 div.sk-label label {font-family: monospace;font-weight: bold;display: inline-block;line-height: 1.2em;}#sk-container-id-1 div.sk-label-container {text-align: center;}#sk-container-id-1 div.sk-container {/* jupyter's `normalize.less` sets `[hidden] { display: none; }` but bootstrap.min.css set `[hidden] { display: none !important; }` so we also need the `!important` here to be able to override the default hidden behavior on the sphinx rendered scikit-learn.org. See: https://github.com/scikit-learn/scikit-learn/issues/21755 */display: inline-block !important;position: relative;}#sk-container-id-1 div.sk-text-repr-fallback {display: none;}</style><div id=\"sk-container-id-1\" class=\"sk-top-container\"><div class=\"sk-text-repr-fallback\"><pre>Pipeline(steps=[(&#x27;preprocessor&#x27;,\n",
       "                 ColumnTransformer(remainder=&#x27;passthrough&#x27;,\n",
       "                                   transformers=[(&#x27;cat&#x27;,\n",
       "                                                  OneHotEncoder(handle_unknown=&#x27;ignore&#x27;),\n",
       "                                                  [&#x27;Product_Category&#x27;,\n",
       "                                                   &#x27;User_Location&#x27;,\n",
       "                                                   &#x27;Shipping_Method&#x27;,\n",
       "                                                   &#x27;Payment_Method&#x27;])])),\n",
       "                (&#x27;classifier&#x27;, LogisticRegression(max_iter=1000))])</pre><b>In a Jupyter environment, please rerun this cell to show the HTML representation or trust the notebook. <br />On GitHub, the HTML representation is unable to render, please try loading this page with nbviewer.org.</b></div><div class=\"sk-container\" hidden><div class=\"sk-item sk-dashed-wrapped\"><div class=\"sk-label-container\"><div class=\"sk-label sk-toggleable\"><input class=\"sk-toggleable__control sk-hidden--visually\" id=\"sk-estimator-id-1\" type=\"checkbox\" ><label for=\"sk-estimator-id-1\" class=\"sk-toggleable__label sk-toggleable__label-arrow\">Pipeline</label><div class=\"sk-toggleable__content\"><pre>Pipeline(steps=[(&#x27;preprocessor&#x27;,\n",
       "                 ColumnTransformer(remainder=&#x27;passthrough&#x27;,\n",
       "                                   transformers=[(&#x27;cat&#x27;,\n",
       "                                                  OneHotEncoder(handle_unknown=&#x27;ignore&#x27;),\n",
       "                                                  [&#x27;Product_Category&#x27;,\n",
       "                                                   &#x27;User_Location&#x27;,\n",
       "                                                   &#x27;Shipping_Method&#x27;,\n",
       "                                                   &#x27;Payment_Method&#x27;])])),\n",
       "                (&#x27;classifier&#x27;, LogisticRegression(max_iter=1000))])</pre></div></div></div><div class=\"sk-serial\"><div class=\"sk-item sk-dashed-wrapped\"><div class=\"sk-label-container\"><div class=\"sk-label sk-toggleable\"><input class=\"sk-toggleable__control sk-hidden--visually\" id=\"sk-estimator-id-2\" type=\"checkbox\" ><label for=\"sk-estimator-id-2\" class=\"sk-toggleable__label sk-toggleable__label-arrow\">preprocessor: ColumnTransformer</label><div class=\"sk-toggleable__content\"><pre>ColumnTransformer(remainder=&#x27;passthrough&#x27;,\n",
       "                  transformers=[(&#x27;cat&#x27;, OneHotEncoder(handle_unknown=&#x27;ignore&#x27;),\n",
       "                                 [&#x27;Product_Category&#x27;, &#x27;User_Location&#x27;,\n",
       "                                  &#x27;Shipping_Method&#x27;, &#x27;Payment_Method&#x27;])])</pre></div></div></div><div class=\"sk-parallel\"><div class=\"sk-parallel-item\"><div class=\"sk-item\"><div class=\"sk-label-container\"><div class=\"sk-label sk-toggleable\"><input class=\"sk-toggleable__control sk-hidden--visually\" id=\"sk-estimator-id-3\" type=\"checkbox\" ><label for=\"sk-estimator-id-3\" class=\"sk-toggleable__label sk-toggleable__label-arrow\">cat</label><div class=\"sk-toggleable__content\"><pre>[&#x27;Product_Category&#x27;, &#x27;User_Location&#x27;, &#x27;Shipping_Method&#x27;, &#x27;Payment_Method&#x27;]</pre></div></div></div><div class=\"sk-serial\"><div class=\"sk-item\"><div class=\"sk-estimator sk-toggleable\"><input class=\"sk-toggleable__control sk-hidden--visually\" id=\"sk-estimator-id-4\" type=\"checkbox\" ><label for=\"sk-estimator-id-4\" class=\"sk-toggleable__label sk-toggleable__label-arrow\">OneHotEncoder</label><div class=\"sk-toggleable__content\"><pre>OneHotEncoder(handle_unknown=&#x27;ignore&#x27;)</pre></div></div></div></div></div></div><div class=\"sk-parallel-item\"><div class=\"sk-item\"><div class=\"sk-label-container\"><div class=\"sk-label sk-toggleable\"><input class=\"sk-toggleable__control sk-hidden--visually\" id=\"sk-estimator-id-5\" type=\"checkbox\" ><label for=\"sk-estimator-id-5\" class=\"sk-toggleable__label sk-toggleable__label-arrow\">remainder</label><div class=\"sk-toggleable__content\"><pre>[&#x27;Order_Quantity&#x27;, &#x27;Product_Price&#x27;]</pre></div></div></div><div class=\"sk-serial\"><div class=\"sk-item\"><div class=\"sk-estimator sk-toggleable\"><input class=\"sk-toggleable__control sk-hidden--visually\" id=\"sk-estimator-id-6\" type=\"checkbox\" ><label for=\"sk-estimator-id-6\" class=\"sk-toggleable__label sk-toggleable__label-arrow\">passthrough</label><div class=\"sk-toggleable__content\"><pre>passthrough</pre></div></div></div></div></div></div></div></div><div class=\"sk-item\"><div class=\"sk-estimator sk-toggleable\"><input class=\"sk-toggleable__control sk-hidden--visually\" id=\"sk-estimator-id-7\" type=\"checkbox\" ><label for=\"sk-estimator-id-7\" class=\"sk-toggleable__label sk-toggleable__label-arrow\">LogisticRegression</label><div class=\"sk-toggleable__content\"><pre>LogisticRegression(max_iter=1000)</pre></div></div></div></div></div></div></div>"
      ],
      "text/plain": [
       "Pipeline(steps=[('preprocessor',\n",
       "                 ColumnTransformer(remainder='passthrough',\n",
       "                                   transformers=[('cat',\n",
       "                                                  OneHotEncoder(handle_unknown='ignore'),\n",
       "                                                  ['Product_Category',\n",
       "                                                   'User_Location',\n",
       "                                                   'Shipping_Method',\n",
       "                                                   'Payment_Method'])])),\n",
       "                ('classifier', LogisticRegression(max_iter=1000))])"
      ]
     },
     "execution_count": 33,
     "metadata": {},
     "output_type": "execute_result"
    }
   ],
   "source": [
    "model = Pipeline(steps=[\n",
    "    ('preprocessor', preprocessor),\n",
    "    ('classifier', LogisticRegression(max_iter=1000))\n",
    "])\n",
    "\n",
    "model.fit(X_train, y_train)\n"
   ]
  },
  {
   "cell_type": "code",
   "execution_count": 34,
   "id": "8c881901-6e46-4eb4-997e-d98c4828424b",
   "metadata": {},
   "outputs": [
    {
     "name": "stdout",
     "output_type": "stream",
     "text": [
      "Accuracy: 0.507\n",
      "[[470 539]\n",
      " [447 544]]\n",
      "              precision    recall  f1-score   support\n",
      "\n",
      "           0       0.51      0.47      0.49      1009\n",
      "           1       0.50      0.55      0.52       991\n",
      "\n",
      "    accuracy                           0.51      2000\n",
      "   macro avg       0.51      0.51      0.51      2000\n",
      "weighted avg       0.51      0.51      0.51      2000\n",
      "\n"
     ]
    }
   ],
   "source": [
    "y_pred = model.predict(X_test)\n",
    "print(\"Accuracy:\", accuracy_score(y_test, y_pred))\n",
    "print(confusion_matrix(y_test, y_pred))\n",
    "print(classification_report(y_test, y_pred))\n"
   ]
  },
  {
   "cell_type": "markdown",
   "id": "48711f86-2275-4217-9fd1-40bfbc79b41c",
   "metadata": {},
   "source": [
    "predict probabilities"
   ]
  },
  {
   "cell_type": "code",
   "execution_count": 35,
   "id": "71b252de-ed48-4625-87c0-ec6d813e0f63",
   "metadata": {},
   "outputs": [
    {
     "name": "stdout",
     "output_type": "stream",
     "text": [
      "     Product_Category User_Location  Order_Quantity  Product_Price  \\\n",
      "2673         Clothing        City71               5         156.48   \n",
      "7108         Clothing        City71               3         246.99   \n",
      "9417         Clothing        City71               5         196.97   \n",
      "8965         Clothing        City71               1         185.11   \n",
      "7282         Clothing        City71               5         491.32   \n",
      "8360         Clothing        City87               3          37.37   \n",
      "3971            Books        City71               2          19.91   \n",
      "6385         Clothing        City58               2         339.34   \n",
      "9056            Books        City58               5          31.22   \n",
      "6029         Clothing        City58               2         303.23   \n",
      "\n",
      "     Shipping_Method Payment_Method  Actual_Returned  Return_Probability  \n",
      "2673        Next-Day      Gift Card                1            0.681092  \n",
      "7108        Next-Day    Credit Card                0            0.676654  \n",
      "9417        Standard      Gift Card                1            0.672849  \n",
      "8965         Express     Debit Card                1            0.671821  \n",
      "7282         Express     Debit Card                1            0.668929  \n",
      "8360         Express      Gift Card                1            0.665378  \n",
      "3971         Express     Debit Card                0            0.664260  \n",
      "6385        Next-Day     Debit Card                0            0.663643  \n",
      "9056        Next-Day    Credit Card                0            0.663437  \n",
      "6029        Next-Day      Gift Card                0            0.663426  \n"
     ]
    }
   ],
   "source": [
    "# Get probabilities of being returned (class 1)\n",
    "y_probs = model.predict_proba(X_test)[:, 1]\n",
    "\n",
    "# Create a DataFrame with predictions and actuals\n",
    "results = X_test.copy()\n",
    "results['Actual_Returned'] = y_test.values\n",
    "results['Return_Probability'] = y_probs\n",
    "\n",
    "# View top 10 high-risk predictions\n",
    "results_sorted = results.sort_values(by='Return_Probability', ascending=False)\n",
    "print(results_sorted.head(10))\n"
   ]
  },
  {
   "cell_type": "code",
   "execution_count": 36,
   "id": "6798a21b-f29f-4608-a3e4-4f804c7ee201",
   "metadata": {},
   "outputs": [
    {
     "name": "stdout",
     "output_type": "stream",
     "text": [
      "Exported high-risk returns to CSV.\n"
     ]
    }
   ],
   "source": [
    "high_risk = results_sorted[results_sorted['Return_Probability'] > 0.7]\n",
    "high_risk.to_csv(\"high_risk_returns.csv\", index=False)\n",
    "print(\"Exported high-risk returns to CSV.\")\n"
   ]
  },
  {
   "cell_type": "markdown",
   "id": "9b0491ae-f0b5-4462-8dfb-e14c0e64d241",
   "metadata": {},
   "source": [
    "Add return risk to full data set "
   ]
  },
  {
   "cell_type": "code",
   "execution_count": 37,
   "id": "49d6ae54-b3bb-4e70-a08d-86e59d121af6",
   "metadata": {},
   "outputs": [],
   "source": [
    "# Use model pipeline to get return probability on full data\n",
    "df_features = df[features]  # Same features used during training\n",
    "df['Return_Risk_Score'] = model.predict_proba(df_features)[:, 1]\n",
    "# 1 very likely be returned\n",
    "#0 is very unlikely"
   ]
  },
  {
   "cell_type": "code",
   "execution_count": 38,
   "id": "c2b96189-02ed-46fc-933c-aea7a115f034",
   "metadata": {},
   "outputs": [
    {
     "name": "stdout",
     "output_type": "stream",
     "text": [
      "Final dataset with return risk score saved.\n"
     ]
    }
   ],
   "source": [
    "df.to_csv(\"ecommerce_returns_with_risk.csv\", index=False)\n",
    "print(\"Final dataset with return risk score saved.\")\n"
   ]
  },
  {
   "cell_type": "code",
   "execution_count": 39,
   "id": "8cd84034-b705-4228-96b3-d63f555f122a",
   "metadata": {},
   "outputs": [],
   "source": [
    "df.to_csv(r\"C:\\Users\\DELL\\Desktop\\HASVIK PROFESONAL\\elevate labs\\project\\ecommerce_returns_with_risk.csv\", index=False)\n",
    "# saved the file for creating Dashboard in PowerBI"
   ]
  },
  {
   "cell_type": "code",
   "execution_count": null,
   "id": "28d9358e-37eb-4274-808e-13220aca5e5d",
   "metadata": {},
   "outputs": [],
   "source": []
  }
 ],
 "metadata": {
  "kernelspec": {
   "display_name": "Python 3 (ipykernel)",
   "language": "python",
   "name": "python3"
  },
  "language_info": {
   "codemirror_mode": {
    "name": "ipython",
    "version": 3
   },
   "file_extension": ".py",
   "mimetype": "text/x-python",
   "name": "python",
   "nbconvert_exporter": "python",
   "pygments_lexer": "ipython3",
   "version": "3.11.7"
  }
 },
 "nbformat": 4,
 "nbformat_minor": 5
}
